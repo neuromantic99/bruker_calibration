{
 "cells": [
  {
   "cell_type": "code",
   "execution_count": 1,
   "metadata": {
    "collapsed": true
   },
   "outputs": [],
   "source": [
    "import numpy as np\n",
    "import matplotlib.pyplot as plt\n",
    "import os\n",
    "import seaborn as sns\n",
    "import csv\n",
    "from scipy.optimize import curve_fit\n",
    "from scipy import asarray as ar,exp\n",
    "from scipy.interpolate import UnivariateSpline\n",
    "\n",
    "sns.set(style='white', font_scale=1.8)\n",
    "sns.set_palette(\"colorblind\")\n",
    "\n",
    "%matplotlib inline"
   ]
  },
  {
   "cell_type": "code",
   "execution_count": 9,
   "metadata": {
    "collapsed": true
   },
   "outputs": [],
   "source": [
    "imaging_path = '/home/jamesrowland/Desktop/2018-09-06_imaging920_PSF_0pt2umbeads_0pt2umslices.csv'\n",
    "SLM_path = '/home/jamesrowland/Desktop/2018-09-06_firstOrder_PSF_0pt5umbeads_1umslices.csv'\n",
    "\n",
    "\n",
    "# run this path through the fitting functions\n",
    "csv_path = SLM_path\n",
    "\n",
    "# z stack step size\n",
    "step_size = 1"
   ]
  },
  {
   "cell_type": "code",
   "execution_count": 10,
   "metadata": {
    "collapsed": true
   },
   "outputs": [],
   "source": [
    "def read_csv(csv_path):\n",
    "\n",
    "    data = []\n",
    "\n",
    "    with open(csv_path, 'r') as csvfile:\n",
    "            LUTreader = csv.reader(csvfile, delimiter=',')\n",
    "            for i,row in enumerate(LUTreader):\n",
    "                if i > 0:\n",
    "                    data.append(float(row[1]))\n",
    "\n",
    "    return np.array(data)"
   ]
  },
  {
   "cell_type": "code",
   "execution_count": 11,
   "metadata": {
    "collapsed": true
   },
   "outputs": [],
   "source": [
    "def gaus(x,a,x0,sigma):\n",
    "    return a*exp(-(x-x0)**2/(2*sigma**2))"
   ]
  },
  {
   "cell_type": "code",
   "execution_count": 12,
   "metadata": {
    "collapsed": true
   },
   "outputs": [],
   "source": [
    "def get_fit(csv_path, step_size):\n",
    "\n",
    "    #setup vectors for gaussian fit\n",
    "    data = read_csv(csv_path)\n",
    "    \n",
    "    #normalise between 0 and 1\n",
    "    y = (data-min(data))/(max(data)-min(data))\n",
    "\n",
    "    #x axis of plot\n",
    "    x = np.arange(0,len(y)*step_size, step_size)\n",
    "    \n",
    "    n = len(x)                       \n",
    "    mean = np.mean(y)                  \n",
    "    sigma = np.std(y)\n",
    "\n",
    "    popt,pcov = curve_fit(gaus,x,y,p0=[1,mean,sigma])\n",
    "\n",
    "    gaus_fit = gaus(x,*popt)\n",
    "    \n",
    "    #fit spline to get FWHM\n",
    "    spline = UnivariateSpline(x, gaus_fit-np.max(gaus_fit)/2, s=0)\n",
    "    r1, r2 = spline.roots() # find the roots\n",
    "    \n",
    "    return x, y, gaus_fit, r1, r2 \n"
   ]
  },
  {
   "cell_type": "code",
   "execution_count": 13,
   "metadata": {
    "collapsed": true
   },
   "outputs": [],
   "source": [
    "def correct_axis(x, gaus_fit):\n",
    "    '''get the x axis for display purposes, with peak centred around 0'''\n",
    "    max_ind = np.argmax(gaus_fit)\n",
    "    x_cent = x[max_ind]    \n",
    "    x_corrected = x - x_cent\n",
    "    return x_corrected"
   ]
  },
  {
   "cell_type": "code",
   "execution_count": 14,
   "metadata": {},
   "outputs": [
    {
     "name": "stdout",
     "output_type": "stream",
     "text": [
      "FWHM is 19.8413865016976\n"
     ]
    }
   ],
   "source": [
    "x, y, gaus_fit, r1, r2 = get_fit(csv_path, step_size)\n",
    "\n",
    "FWHM = r2 - r1\n",
    "print('FWHM is {}'.format(FWHM))"
   ]
  },
  {
   "cell_type": "code",
   "execution_count": 15,
   "metadata": {},
   "outputs": [
    {
     "data": {
      "image/png": "[encoded data removed]",
      "text/plain": [
       "<Figure size 432x288 with 1 Axes>"
      ]
     },
     "metadata": {},
     "output_type": "display_data"
    }
   ],
   "source": [
    "\n",
    "fig = plt.figure()\n",
    "x_axis = correct_axis(x, gaus_fit)\n",
    "\n",
    "#plot the data, to confirm gaus and spline fit\n",
    "plt.plot(x_axis,y,'.',label='data')\n",
    "plt.plot(x_axis,gaus_fit,label='fit')\n",
    "\n",
    "#splines \n",
    "#plt.plot(100*[r1], np.linspace(0,max(gaus_fit), 100), c='black')\n",
    "#plt.plot(100*[r2], np.linspace(0,max(gaus_fit), 100), c='black')\n",
    "\n",
    "\n",
    "plt.xlabel('Position (um)')\n",
    "plt.ylabel('Normalised Intensity')\n",
    "plt.yticks([0,0.5,1])\n",
    "plt.xlim([-1.5*FWHM,1.5*FWHM])\n",
    "sns.despine()\n",
    "\n",
    "#save the plot\n",
    "save_path = r'/home/jamesrowland/Desktop/imaging_figures'\n",
    "save_path = os.path.join(save_path, 'SLM_PSF.svg')\n",
    "#save_path = os.path.join(save_path, 'imaging_PSF.svg')\n",
    "plt.savefig(save_path)\n",
    "\n",
    "plt.show()"
   ]
  },
  {
   "cell_type": "code",
   "execution_count": null,
   "metadata": {
    "collapsed": true
   },
   "outputs": [],
   "source": [
    "\n"
   ]
  },
  {
   "cell_type": "code",
   "execution_count": null,
   "metadata": {
    "collapsed": true
   },
   "outputs": [],
   "source": []
  },
  {
   "cell_type": "code",
   "execution_count": null,
   "metadata": {
    "collapsed": true
   },
   "outputs": [],
   "source": []
  }
 ],
 "metadata": {
  "kernelspec": {
   "display_name": "Python 3",
   "language": "python",
   "name": "python3"
  },
  "language_info": {
   "codemirror_mode": {
    "name": "ipython",
    "version": 3
   },
   "file_extension": ".py",
   "mimetype": "text/x-python",
   "name": "python",
   "nbconvert_exporter": "python",
   "pygments_lexer": "ipython3",
   "version": "3.6.3"
  }
 },
 "nbformat": 4,
 "nbformat_minor": 2
}
