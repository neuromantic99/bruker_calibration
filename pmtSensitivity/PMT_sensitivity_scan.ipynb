{
 "cells": [
  {
   "cell_type": "markdown",
   "metadata": {},
   "source": [
    "# this notebook is used to generate a tseries, with an SLM mask at different PV laser powers. This enables PMT gain calculations"
   ]
  },
  {
   "cell_type": "code",
   "execution_count": 1,
   "metadata": {},
   "outputs": [],
   "source": [
    "import win32com.client\n",
    "from datetime import date\n",
    "import numpy as np\n",
    "import time"
   ]
  },
  {
   "cell_type": "code",
   "execution_count": 2,
   "metadata": {},
   "outputs": [
    {
     "ename": "com_error",
     "evalue": "(-2147221164, 'Class not registered', None, None)",
     "output_type": "error",
     "traceback": [
      "\u001b[1;31m---------------------------------------------------------------------------\u001b[0m",
      "\u001b[1;31mcom_error\u001b[0m                                 Traceback (most recent call last)",
      "\u001b[1;32m~\\Anaconda3_32\\lib\\site-packages\\win32com\\client\\dynamic.py\u001b[0m in \u001b[0;36m_GetGoodDispatch\u001b[1;34m(IDispatch, clsctx)\u001b[0m\n\u001b[0;32m     88\u001b[0m                 \u001b[1;32mtry\u001b[0m\u001b[1;33m:\u001b[0m\u001b[1;33m\u001b[0m\u001b[0m\n\u001b[1;32m---> 89\u001b[1;33m                         \u001b[0mIDispatch\u001b[0m \u001b[1;33m=\u001b[0m \u001b[0mpythoncom\u001b[0m\u001b[1;33m.\u001b[0m\u001b[0mconnect\u001b[0m\u001b[1;33m(\u001b[0m\u001b[0mIDispatch\u001b[0m\u001b[1;33m)\u001b[0m\u001b[1;33m\u001b[0m\u001b[0m\n\u001b[0m\u001b[0;32m     90\u001b[0m                 \u001b[1;32mexcept\u001b[0m \u001b[0mpythoncom\u001b[0m\u001b[1;33m.\u001b[0m\u001b[0mole_error\u001b[0m\u001b[1;33m:\u001b[0m\u001b[1;33m\u001b[0m\u001b[0m\n",
      "\u001b[1;31mcom_error\u001b[0m: (-2147221021, 'Operation unavailable', None, None)",
      "\nDuring handling of the above exception, another exception occurred:\n",
      "\u001b[1;31mcom_error\u001b[0m                                 Traceback (most recent call last)",
      "\u001b[1;32m<ipython-input-2-1fe698a6e959>\u001b[0m in \u001b[0;36m<module>\u001b[1;34m()\u001b[0m\n\u001b[0;32m      1\u001b[0m \u001b[1;31m# Start PrairieLink\u001b[0m\u001b[1;33m\u001b[0m\u001b[1;33m\u001b[0m\u001b[0m\n\u001b[1;32m----> 2\u001b[1;33m \u001b[0mpl\u001b[0m \u001b[1;33m=\u001b[0m \u001b[0mwin32com\u001b[0m\u001b[1;33m.\u001b[0m\u001b[0mclient\u001b[0m\u001b[1;33m.\u001b[0m\u001b[0mDispatch\u001b[0m\u001b[1;33m(\u001b[0m\u001b[1;34m'PrairieLink.Application'\u001b[0m\u001b[1;33m)\u001b[0m\u001b[1;33m\u001b[0m\u001b[0m\n\u001b[0m\u001b[0;32m      3\u001b[0m \u001b[1;33m\u001b[0m\u001b[0m\n\u001b[0;32m      4\u001b[0m \u001b[1;31m# Connect to Client\u001b[0m\u001b[1;33m\u001b[0m\u001b[1;33m\u001b[0m\u001b[0m\n\u001b[0;32m      5\u001b[0m \u001b[0mpl\u001b[0m\u001b[1;33m.\u001b[0m\u001b[0mConnect\u001b[0m\u001b[1;33m(\u001b[0m\u001b[1;33m)\u001b[0m\u001b[1;33m\u001b[0m\u001b[0m\n",
      "\u001b[1;32m~\\Anaconda3_32\\lib\\site-packages\\win32com\\client\\__init__.py\u001b[0m in \u001b[0;36mDispatch\u001b[1;34m(dispatch, userName, resultCLSID, typeinfo, UnicodeToString, clsctx)\u001b[0m\n\u001b[0;32m     93\u001b[0m   \"\"\"\n\u001b[0;32m     94\u001b[0m   \u001b[1;32massert\u001b[0m \u001b[0mUnicodeToString\u001b[0m \u001b[1;32mis\u001b[0m \u001b[1;32mNone\u001b[0m\u001b[1;33m,\u001b[0m \u001b[1;34m\"this is deprecated and will go away\"\u001b[0m\u001b[1;33m\u001b[0m\u001b[0m\n\u001b[1;32m---> 95\u001b[1;33m   \u001b[0mdispatch\u001b[0m\u001b[1;33m,\u001b[0m \u001b[0muserName\u001b[0m \u001b[1;33m=\u001b[0m \u001b[0mdynamic\u001b[0m\u001b[1;33m.\u001b[0m\u001b[0m_GetGoodDispatchAndUserName\u001b[0m\u001b[1;33m(\u001b[0m\u001b[0mdispatch\u001b[0m\u001b[1;33m,\u001b[0m\u001b[0muserName\u001b[0m\u001b[1;33m,\u001b[0m\u001b[0mclsctx\u001b[0m\u001b[1;33m)\u001b[0m\u001b[1;33m\u001b[0m\u001b[0m\n\u001b[0m\u001b[0;32m     96\u001b[0m   \u001b[1;32mreturn\u001b[0m \u001b[0m__WrapDispatch\u001b[0m\u001b[1;33m(\u001b[0m\u001b[0mdispatch\u001b[0m\u001b[1;33m,\u001b[0m \u001b[0muserName\u001b[0m\u001b[1;33m,\u001b[0m \u001b[0mresultCLSID\u001b[0m\u001b[1;33m,\u001b[0m \u001b[0mtypeinfo\u001b[0m\u001b[1;33m,\u001b[0m \u001b[0mclsctx\u001b[0m\u001b[1;33m=\u001b[0m\u001b[0mclsctx\u001b[0m\u001b[1;33m)\u001b[0m\u001b[1;33m\u001b[0m\u001b[0m\n\u001b[0;32m     97\u001b[0m \u001b[1;33m\u001b[0m\u001b[0m\n",
      "\u001b[1;32m~\\Anaconda3_32\\lib\\site-packages\\win32com\\client\\dynamic.py\u001b[0m in \u001b[0;36m_GetGoodDispatchAndUserName\u001b[1;34m(IDispatch, userName, clsctx)\u001b[0m\n\u001b[0;32m    112\u001b[0m         \u001b[1;32melse\u001b[0m\u001b[1;33m:\u001b[0m\u001b[1;33m\u001b[0m\u001b[0m\n\u001b[0;32m    113\u001b[0m                 \u001b[0muserName\u001b[0m \u001b[1;33m=\u001b[0m \u001b[0mstr\u001b[0m\u001b[1;33m(\u001b[0m\u001b[0muserName\u001b[0m\u001b[1;33m)\u001b[0m\u001b[1;33m\u001b[0m\u001b[0m\n\u001b[1;32m--> 114\u001b[1;33m         \u001b[1;32mreturn\u001b[0m \u001b[1;33m(\u001b[0m\u001b[0m_GetGoodDispatch\u001b[0m\u001b[1;33m(\u001b[0m\u001b[0mIDispatch\u001b[0m\u001b[1;33m,\u001b[0m \u001b[0mclsctx\u001b[0m\u001b[1;33m)\u001b[0m\u001b[1;33m,\u001b[0m \u001b[0muserName\u001b[0m\u001b[1;33m)\u001b[0m\u001b[1;33m\u001b[0m\u001b[0m\n\u001b[0m\u001b[0;32m    115\u001b[0m \u001b[1;33m\u001b[0m\u001b[0m\n\u001b[0;32m    116\u001b[0m \u001b[1;32mdef\u001b[0m \u001b[0m_GetDescInvokeType\u001b[0m\u001b[1;33m(\u001b[0m\u001b[0mentry\u001b[0m\u001b[1;33m,\u001b[0m \u001b[0minvoke_type\u001b[0m\u001b[1;33m)\u001b[0m\u001b[1;33m:\u001b[0m\u001b[1;33m\u001b[0m\u001b[0m\n",
      "\u001b[1;32m~\\Anaconda3_32\\lib\\site-packages\\win32com\\client\\dynamic.py\u001b[0m in \u001b[0;36m_GetGoodDispatch\u001b[1;34m(IDispatch, clsctx)\u001b[0m\n\u001b[0;32m     89\u001b[0m                         \u001b[0mIDispatch\u001b[0m \u001b[1;33m=\u001b[0m \u001b[0mpythoncom\u001b[0m\u001b[1;33m.\u001b[0m\u001b[0mconnect\u001b[0m\u001b[1;33m(\u001b[0m\u001b[0mIDispatch\u001b[0m\u001b[1;33m)\u001b[0m\u001b[1;33m\u001b[0m\u001b[0m\n\u001b[0;32m     90\u001b[0m                 \u001b[1;32mexcept\u001b[0m \u001b[0mpythoncom\u001b[0m\u001b[1;33m.\u001b[0m\u001b[0mole_error\u001b[0m\u001b[1;33m:\u001b[0m\u001b[1;33m\u001b[0m\u001b[0m\n\u001b[1;32m---> 91\u001b[1;33m                         \u001b[0mIDispatch\u001b[0m \u001b[1;33m=\u001b[0m \u001b[0mpythoncom\u001b[0m\u001b[1;33m.\u001b[0m\u001b[0mCoCreateInstance\u001b[0m\u001b[1;33m(\u001b[0m\u001b[0mIDispatch\u001b[0m\u001b[1;33m,\u001b[0m \u001b[1;32mNone\u001b[0m\u001b[1;33m,\u001b[0m \u001b[0mclsctx\u001b[0m\u001b[1;33m,\u001b[0m \u001b[0mpythoncom\u001b[0m\u001b[1;33m.\u001b[0m\u001b[0mIID_IDispatch\u001b[0m\u001b[1;33m)\u001b[0m\u001b[1;33m\u001b[0m\u001b[0m\n\u001b[0m\u001b[0;32m     92\u001b[0m         \u001b[1;32melse\u001b[0m\u001b[1;33m:\u001b[0m\u001b[1;33m\u001b[0m\u001b[0m\n\u001b[0;32m     93\u001b[0m                 \u001b[1;31m# may already be a wrapped class.\u001b[0m\u001b[1;33m\u001b[0m\u001b[1;33m\u001b[0m\u001b[0m\n",
      "\u001b[1;31mcom_error\u001b[0m: (-2147221164, 'Class not registered', None, None)"
     ]
    }
   ],
   "source": [
    "# Start PrairieLink\n",
    "pl = win32com.client.Dispatch('PrairieLink.Application')\n",
    "\n",
    "# Connect to Client\n",
    "pl.Connect()\n",
    "print(pl.Connected)"
   ]
  },
  {
   "cell_type": "markdown",
   "metadata": {},
   "source": [
    "# different laser powers -> different means -> plot variance vs mean -> get regression slope, interpret this as gain ( ASSUMPTION: poisson distributed tstack)\n",
    "# different PMT voltages -> get different regression slopes -> plot gain vs PMT voltage"
   ]
  },
  {
   "cell_type": "markdown",
   "metadata": {},
   "source": [
    "# set Pmin (laser power in PV) and Pmax manually, CHECK FIRST if they max out loookup table for EVERY PMT value"
   ]
  },
  {
   "cell_type": "code",
   "execution_count": null,
   "metadata": {},
   "outputs": [],
   "source": [
    "# set modalities of the 2d-parameter-space scan\n",
    "# do this manually!!\n",
    "Pmin = 200\n",
    "Pstep = 50\n",
    "\n",
    "# PV that corresponds to 50mw OnSample\n",
    "# maybe not\n",
    "Pmax = 700\n",
    "\n",
    "# Volate were we can see\n",
    "Vmin = 345\n",
    "Vstep = 5\n",
    "\n",
    "# Voltage that slightly oversaturates the uniformly lit sample\n",
    "Vmax = 355\n",
    "\n",
    "# length of timestack that we will take the mean over\n",
    "tStack_length = 101\n",
    "\n",
    "# Laser name, wavelength and PLT number - please make sure that you can see\n",
    "laser_name = \"Imaging\"\n",
    "pmt_number = 2\n",
    "wavelength = 765\n",
    "\n",
    "\n",
    "# iterate through P and V to acquire tstacks\n",
    "Vspace = np.arange(Vmin,Vmax+Vstep,Vstep)\n",
    "Pspace = np.arange(Pmin,Pmax+Pstep,Pstep)"
   ]
  },
  {
   "cell_type": "code",
   "execution_count": null,
   "metadata": {},
   "outputs": [],
   "source": [
    "# construct Packer-xkcd-compliant datestring\n",
    "datestring = date.today().isoformat()\n",
    "\n",
    "# update settings once\n",
    "#pl.SendScriptCommands('-SetSavePath F:\\Data\\mloidolt\\2018-07-20\\MatLabFolder')\n",
    "#pl.SendScriptCommands('-SetAcquisitionMode Galvo')\n",
    "#pl.SendScriptCommands('-TSeriesLoad F:\\Data\\mloidolt\\Configs\\PMT-sensitivity-tstackConfig.env')\n",
    "print('Folders set')"
   ]
  },
  {
   "cell_type": "code",
   "execution_count": null,
   "metadata": {},
   "outputs": [],
   "source": [
    "for V in Vspace:\n",
    "    for P in Pspace:\n",
    "        pl.SendScriptCommands('-SetFileName ' + 'Tseries ' + datestring + 'V' + str(int(V)) + 'P' + str(int(P)))\n",
    "        pl.SendScriptCommands('-SetLaserPower ' + laser_name + ' ' + str(P))\n",
    "        pl.SendScriptCommands('-SetPMTGain ' + str(pmt_number) + ' ' + str(V))\n",
    "        pl.SendScriptCommands('-TSeries')\n",
    "        pl.SendScriptCommands('-WaitForScan')\n",
    "        time.sleep(3)\n",
    "        print(P)\n",
    "    print(V)\n",
    "\n",
    "pl.SendScriptCommands('-SetPMTGain ' + str(pmt_number) + ' ' + str(0))\n",
    "pl.SendScriptCommands('-SetLaserPower ' + laser_name + ' ' + str(0))\n",
    "#pl.Disconnect()"
   ]
  },
  {
   "cell_type": "code",
   "execution_count": null,
   "metadata": {},
   "outputs": [],
   "source": [
    "pl.Disconnect()"
   ]
  },
  {
   "cell_type": "code",
   "execution_count": null,
   "metadata": {},
   "outputs": [],
   "source": []
  }
 ],
 "metadata": {
  "kernelspec": {
   "display_name": "Python 3",
   "language": "python",
   "name": "python3"
  },
  "language_info": {
   "codemirror_mode": {
    "name": "ipython",
    "version": 3
   },
   "file_extension": ".py",
   "mimetype": "text/x-python",
   "name": "python",
   "nbconvert_exporter": "python",
   "pygments_lexer": "ipython3",
   "version": "3.7.0"
  }
 },
 "nbformat": 4,
 "nbformat_minor": 2
}
