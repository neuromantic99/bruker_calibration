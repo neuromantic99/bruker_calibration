{
 "cells": [
  {
   "cell_type": "markdown",
   "metadata": {},
   "source": [
    "# Used to plot PMT gain against PMT voltage for the orange slide power changing experiment\n",
    "\n",
    "http://labrigger.com/blog/2016/08/11/checking-pmt-performance-over-time/comment-page-1/\n",
    "\n",
    "http://labrigger.com/blog/2010/07/30/measuring-the-gain-of-your-imaging-system/"
   ]
  },
  {
   "cell_type": "code",
   "execution_count": 1,
   "metadata": {},
   "outputs": [],
   "source": [
    "import matplotlib.pyplot as plt\n",
    "import os\n",
    "import fnmatch\n",
    "import numpy as np\n",
    "from xml.dom.minidom import parse\n",
    "from scipy import stats\n",
    "from matplotlib import pyplot as plt"
   ]
  },
  {
   "cell_type": "code",
   "execution_count": 2,
   "metadata": {},
   "outputs": [],
   "source": [
    "def return_tStack(directory):\n",
    "    \"\"\"\n",
    "    take a directory and return a tStack numpy array of all tiffs in there in shape (num_tifs,width,height)\n",
    "    \"\"\"\n",
    "    \n",
    "    os.chdir(directory)\n",
    "    # construct list of all files in given directory\n",
    "    list_of_files = os.listdir('.')\n",
    "    \n",
    "    # reduce the above list to list of files matching given pattern\n",
    "    pattern = '*.tif'\n",
    "    list_of_tifs = []\n",
    "    for entry in list_of_files:\n",
    "        if fnmatch.fnmatch(entry, pattern):\n",
    "            list_of_tifs.append(entry)\n",
    "\n",
    "    # get metadata of first gif, assuming all other are equal\n",
    "    image = plt.imread(list_of_tifs[0])\n",
    "    width = image.shape[0]\n",
    "    height = image.shape[1]\n",
    "    num_tifs = len(list_of_tifs)\n",
    "\n",
    "    # construct empty tStack to be filled later\n",
    "    tStack = np.zeros((num_tifs,width,height))\n",
    "\n",
    "    # fill tStack with tifs\n",
    "    for i in range(num_tifs):\n",
    "        tStack[i] =  plt.imread(list_of_tifs[i])\n",
    "\n",
    "    return tStack"
   ]
  },
  {
   "cell_type": "code",
   "execution_count": 3,
   "metadata": {},
   "outputs": [],
   "source": [
    "def return_subfolder_and_xml(directory):\n",
    "    \"\"\"\n",
    "    takes a directory, finds all subfolders of that directory and the .xml file describing them\n",
    "    returns a dictionary with {subfolder:xml_filename}\n",
    "    \"\"\"\n",
    "    os.chdir(directory)\n",
    "    # construct list of all files in given directory\n",
    "\n",
    "    # construct list of all subfolders in given directory\n",
    "    list_of_subfolders = [f.path for f in os.scandir('.') if f.is_dir()]\n",
    "    \n",
    "    subfolders_xml_dict = {}\n",
    "\n",
    "    # construct list of xmls for every subfolder\n",
    "    for subfolder in list_of_subfolders:\n",
    "        # chdir to directory/subfolder\n",
    "        os.chdir(subfolder)\n",
    "        \n",
    "        # define pattern that will be matched\n",
    "        pattern = '*.xml'\n",
    "        \n",
    "        # get list of files in current folder\n",
    "        list_of_files = os.listdir('.')\n",
    "        \n",
    "        # construct list of all xmls in current folder\n",
    "        list_of_xmls = []\n",
    "        for f in list_of_files:\n",
    "            if fnmatch.fnmatch(f, pattern):\n",
    "                list_of_xmls.append(f)\n",
    "        \n",
    "        # add subfolder:xml to subfolders_xml_dict\n",
    "        subfolders_xml_dict[subfolder] = list_of_xmls[0]\n",
    "        os.chdir('..')\n",
    "\n",
    "    # return first xml (we assume there is only one) and subfolder\n",
    "    return subfolders_xml_dict"
   ]
  },
  {
   "cell_type": "code",
   "execution_count": 4,
   "metadata": {},
   "outputs": [],
   "source": [
    "def return_power_states(xml,laser_name,pmt_number):\n",
    "    \"\"\"\n",
    "    whatever\n",
    "    \"\"\"\n",
    "    # parse xml file into minidom structure\n",
    "    dom1 = parse(xml)\n",
    "    \n",
    "    # take first PVStateShard because we assume the powers not to change during       the tStack\n",
    "    first_shard = dom1.getElementsByTagName('PVStateShard')[0]\n",
    "    # produce list of every PVStateValue\n",
    "    state_value_list = first_shard.getElementsByTagName('PVStateValue')\n",
    "    \n",
    "    # search thois lists keys for 'laserPower' and 'pmtGain'\n",
    "    for i in range(len(state_value_list)):\n",
    "        if state_value_list[i].getAttribute('key') == 'laserPower':\n",
    "            laserPower_index = i\n",
    "        if state_value_list[i].getAttribute('key') == 'pmtGain':\n",
    "            pmtGain_index = i\n",
    "    \n",
    "    # create list of indexed values in 'laserPower' element\n",
    "    indexed_value_list = state_value_list[laserPower_index].getElementsByTagName('IndexedValue')\n",
    "\n",
    "    # search this list for 'laser_name' matching the input to this function\n",
    "    for i in range(len(indexed_value_list)):\n",
    "        if indexed_value_list[i].getAttribute('description') == laser_name:\n",
    "            laser_power = indexed_value_list[i].getAttribute('value')\n",
    "            \n",
    "    # create list of indexed values in 'pmtGain' element\n",
    "    indexed_value_list = state_value_list[pmtGain_index].getElementsByTagName('IndexedValue')\n",
    "\n",
    "    # create pmt_str to fit the style in the xml\n",
    "    pmt_str = 'PMT ' + pmt_number + ' HV'\n",
    "\n",
    "    # search this list for 'laser_name' matching the input to this function\n",
    "    for i in range(len(indexed_value_list)):\n",
    "        if indexed_value_list[i].getAttribute('description') == pmt_str:\n",
    "            pmt_gain = indexed_value_list[i].getAttribute('value')\n",
    "\n",
    "    return (laser_power,pmt_gain)"
   ]
  },
  {
   "cell_type": "code",
   "execution_count": 5,
   "metadata": {},
   "outputs": [
    {
     "name": "stdout",
     "output_type": "stream",
     "text": [
      "F:\\Data\\mloidolt\\2018-08-02\\2018-08-02_XscanPMT\n"
     ]
    }
   ],
   "source": [
    "#### set the things you are interested in here #####\n",
    "\n",
    "directory = r'F:\\Data\\mloidolt\\2018-08-02\\2018-08-02_XscanPMT'\n",
    "print(directory)\n",
    "laser_name = 'Imaging'\n",
    "pmt_number = '2'\n",
    "t_stack_len = 100\n",
    "width = 512\n",
    "height = 512"
   ]
  },
  {
   "cell_type": "code",
   "execution_count": 6,
   "metadata": {},
   "outputs": [
    {
     "name": "stdout",
     "output_type": "stream",
     "text": [
      "{'.\\\\2018-08-02V200X0-009': '2018-08-02V200X0-009.xml', '.\\\\2018-08-02V200X0-010': '2018-08-02V200X0-010.xml', '.\\\\2018-08-02V200X0-011': '2018-08-02V200X0-011.xml', '.\\\\2018-08-02V200X100-012': '2018-08-02V200X100-012.xml', '.\\\\2018-08-02V200X1000-021': '2018-08-02V200X1000-021.xml', '.\\\\2018-08-02V200X1100-022': '2018-08-02V200X1100-022.xml', '.\\\\2018-08-02V200X1200-023': '2018-08-02V200X1200-023.xml', '.\\\\2018-08-02V200X1300-024': '2018-08-02V200X1300-024.xml', '.\\\\2018-08-02V200X1400-025': '2018-08-02V200X1400-025.xml', '.\\\\2018-08-02V200X1500-026': '2018-08-02V200X1500-026.xml', '.\\\\2018-08-02V200X1600-027': '2018-08-02V200X1600-027.xml', '.\\\\2018-08-02V200X1700-028': '2018-08-02V200X1700-028.xml', '.\\\\2018-08-02V200X1800-029': '2018-08-02V200X1800-029.xml', '.\\\\2018-08-02V200X1900-030': '2018-08-02V200X1900-030.xml', '.\\\\2018-08-02V200X200-013': '2018-08-02V200X200-013.xml', '.\\\\2018-08-02V200X2000-031': '2018-08-02V200X2000-031.xml', '.\\\\2018-08-02V200X300-014': '2018-08-02V200X300-014.xml', '.\\\\2018-08-02V200X400-015': '2018-08-02V200X400-015.xml', '.\\\\2018-08-02V200X500-016': '2018-08-02V200X500-016.xml', '.\\\\2018-08-02V200X600-017': '2018-08-02V200X600-017.xml', '.\\\\2018-08-02V200X700-018': '2018-08-02V200X700-018.xml', '.\\\\2018-08-02V200X800-019': '2018-08-02V200X800-019.xml', '.\\\\2018-08-02V200X900-020': '2018-08-02V200X900-020.xml', '.\\\\2018-08-02V250X0-032': '2018-08-02V250X0-032.xml', '.\\\\2018-08-02V250X100-033': '2018-08-02V250X100-033.xml', '.\\\\2018-08-02V250X1000-042': '2018-08-02V250X1000-042.xml', '.\\\\2018-08-02V250X1100-043': '2018-08-02V250X1100-043.xml', '.\\\\2018-08-02V250X1200-044': '2018-08-02V250X1200-044.xml', '.\\\\2018-08-02V250X1300-045': '2018-08-02V250X1300-045.xml', '.\\\\2018-08-02V250X1400-046': '2018-08-02V250X1400-046.xml', '.\\\\2018-08-02V250X1500-047': '2018-08-02V250X1500-047.xml', '.\\\\2018-08-02V250X1600-048': '2018-08-02V250X1600-048.xml', '.\\\\2018-08-02V250X1700-049': '2018-08-02V250X1700-049.xml', '.\\\\2018-08-02V250X1800-050': '2018-08-02V250X1800-050.xml', '.\\\\2018-08-02V250X1900-051': '2018-08-02V250X1900-051.xml', '.\\\\2018-08-02V250X200-034': '2018-08-02V250X200-034.xml', '.\\\\2018-08-02V250X2000-052': '2018-08-02V250X2000-052.xml', '.\\\\2018-08-02V250X300-035': '2018-08-02V250X300-035.xml', '.\\\\2018-08-02V250X400-036': '2018-08-02V250X400-036.xml', '.\\\\2018-08-02V250X500-037': '2018-08-02V250X500-037.xml', '.\\\\2018-08-02V250X600-038': '2018-08-02V250X600-038.xml', '.\\\\2018-08-02V250X700-039': '2018-08-02V250X700-039.xml', '.\\\\2018-08-02V250X800-040': '2018-08-02V250X800-040.xml', '.\\\\2018-08-02V250X900-041': '2018-08-02V250X900-041.xml', '.\\\\2018-08-02V300X0-053': '2018-08-02V300X0-053.xml', '.\\\\2018-08-02V300X100-054': '2018-08-02V300X100-054.xml', '.\\\\2018-08-02V300X1000-063': '2018-08-02V300X1000-063.xml', '.\\\\2018-08-02V300X1100-064': '2018-08-02V300X1100-064.xml', '.\\\\2018-08-02V300X1200-065': '2018-08-02V300X1200-065.xml', '.\\\\2018-08-02V300X1300-066': '2018-08-02V300X1300-066.xml', '.\\\\2018-08-02V300X1400-067': '2018-08-02V300X1400-067.xml', '.\\\\2018-08-02V300X1500-068': '2018-08-02V300X1500-068.xml', '.\\\\2018-08-02V300X1600-069': '2018-08-02V300X1600-069.xml', '.\\\\2018-08-02V300X1700-070': '2018-08-02V300X1700-070.xml', '.\\\\2018-08-02V300X1800-071': '2018-08-02V300X1800-071.xml', '.\\\\2018-08-02V300X1900-072': '2018-08-02V300X1900-072.xml', '.\\\\2018-08-02V300X200-055': '2018-08-02V300X200-055.xml', '.\\\\2018-08-02V300X2000-073': '2018-08-02V300X2000-073.xml', '.\\\\2018-08-02V300X300-056': '2018-08-02V300X300-056.xml', '.\\\\2018-08-02V300X400-057': '2018-08-02V300X400-057.xml', '.\\\\2018-08-02V300X500-058': '2018-08-02V300X500-058.xml', '.\\\\2018-08-02V300X600-059': '2018-08-02V300X600-059.xml', '.\\\\2018-08-02V300X700-060': '2018-08-02V300X700-060.xml', '.\\\\2018-08-02V300X800-061': '2018-08-02V300X800-061.xml', '.\\\\2018-08-02V300X900-062': '2018-08-02V300X900-062.xml', '.\\\\2018-08-02V350X0-074': '2018-08-02V350X0-074.xml', '.\\\\2018-08-02V350X100-075': '2018-08-02V350X100-075.xml', '.\\\\2018-08-02V350X1000-084': '2018-08-02V350X1000-084.xml', '.\\\\2018-08-02V350X1100-085': '2018-08-02V350X1100-085.xml', '.\\\\2018-08-02V350X1200-086': '2018-08-02V350X1200-086.xml', '.\\\\2018-08-02V350X1300-087': '2018-08-02V350X1300-087.xml', '.\\\\2018-08-02V350X1400-088': '2018-08-02V350X1400-088.xml', '.\\\\2018-08-02V350X1500-089': '2018-08-02V350X1500-089.xml', '.\\\\2018-08-02V350X1600-090': '2018-08-02V350X1600-090.xml', '.\\\\2018-08-02V350X1700-091': '2018-08-02V350X1700-091.xml', '.\\\\2018-08-02V350X1800-092': '2018-08-02V350X1800-092.xml', '.\\\\2018-08-02V350X1900-093': '2018-08-02V350X1900-093.xml', '.\\\\2018-08-02V350X200-076': '2018-08-02V350X200-076.xml', '.\\\\2018-08-02V350X2000-094': '2018-08-02V350X2000-094.xml', '.\\\\2018-08-02V350X300-077': '2018-08-02V350X300-077.xml', '.\\\\2018-08-02V350X400-078': '2018-08-02V350X400-078.xml', '.\\\\2018-08-02V350X500-079': '2018-08-02V350X500-079.xml', '.\\\\2018-08-02V350X600-080': '2018-08-02V350X600-080.xml', '.\\\\2018-08-02V350X700-081': '2018-08-02V350X700-081.xml', '.\\\\2018-08-02V350X800-082': '2018-08-02V350X800-082.xml', '.\\\\2018-08-02V350X900-083': '2018-08-02V350X900-083.xml', '.\\\\2018-08-02V400X0-095': '2018-08-02V400X0-095.xml', '.\\\\2018-08-02V400X100-096': '2018-08-02V400X100-096.xml', '.\\\\2018-08-02V400X1000-105': '2018-08-02V400X1000-105.xml', '.\\\\2018-08-02V400X1100-106': '2018-08-02V400X1100-106.xml', '.\\\\2018-08-02V400X1200-107': '2018-08-02V400X1200-107.xml', '.\\\\2018-08-02V400X1300-108': '2018-08-02V400X1300-108.xml', '.\\\\2018-08-02V400X1400-109': '2018-08-02V400X1400-109.xml', '.\\\\2018-08-02V400X1500-110': '2018-08-02V400X1500-110.xml', '.\\\\2018-08-02V400X1600-111': '2018-08-02V400X1600-111.xml', '.\\\\2018-08-02V400X1700-112': '2018-08-02V400X1700-112.xml', '.\\\\2018-08-02V400X1800-113': '2018-08-02V400X1800-113.xml', '.\\\\2018-08-02V400X1900-114': '2018-08-02V400X1900-114.xml', '.\\\\2018-08-02V400X200-097': '2018-08-02V400X200-097.xml', '.\\\\2018-08-02V400X2000-115': '2018-08-02V400X2000-115.xml', '.\\\\2018-08-02V400X300-098': '2018-08-02V400X300-098.xml', '.\\\\2018-08-02V400X400-099': '2018-08-02V400X400-099.xml', '.\\\\2018-08-02V400X500-100': '2018-08-02V400X500-100.xml', '.\\\\2018-08-02V400X600-101': '2018-08-02V400X600-101.xml', '.\\\\2018-08-02V400X700-102': '2018-08-02V400X700-102.xml', '.\\\\2018-08-02V400X800-103': '2018-08-02V400X800-103.xml', '.\\\\2018-08-02V400X900-104': '2018-08-02V400X900-104.xml', '.\\\\2018-08-02V450X0-116': '2018-08-02V450X0-116.xml', '.\\\\2018-08-02V450X100-117': '2018-08-02V450X100-117.xml', '.\\\\2018-08-02V450X1000-126': '2018-08-02V450X1000-126.xml', '.\\\\2018-08-02V450X1100-127': '2018-08-02V450X1100-127.xml', '.\\\\2018-08-02V450X1200-128': '2018-08-02V450X1200-128.xml', '.\\\\2018-08-02V450X1300-129': '2018-08-02V450X1300-129.xml', '.\\\\2018-08-02V450X1400-130': '2018-08-02V450X1400-130.xml', '.\\\\2018-08-02V450X1500-131': '2018-08-02V450X1500-131.xml', '.\\\\2018-08-02V450X1600-132': '2018-08-02V450X1600-132.xml', '.\\\\2018-08-02V450X1700-133': '2018-08-02V450X1700-133.xml', '.\\\\2018-08-02V450X1800-134': '2018-08-02V450X1800-134.xml', '.\\\\2018-08-02V450X1900-135': '2018-08-02V450X1900-135.xml', '.\\\\2018-08-02V450X200-118': '2018-08-02V450X200-118.xml', '.\\\\2018-08-02V450X2000-136': '2018-08-02V450X2000-136.xml', '.\\\\2018-08-02V450X300-119': '2018-08-02V450X300-119.xml', '.\\\\2018-08-02V450X400-120': '2018-08-02V450X400-120.xml', '.\\\\2018-08-02V450X500-121': '2018-08-02V450X500-121.xml', '.\\\\2018-08-02V450X600-122': '2018-08-02V450X600-122.xml', '.\\\\2018-08-02V450X700-123': '2018-08-02V450X700-123.xml', '.\\\\2018-08-02V450X800-124': '2018-08-02V450X800-124.xml', '.\\\\2018-08-02V450X900-125': '2018-08-02V450X900-125.xml', '.\\\\2018-08-02V500X0-137': '2018-08-02V500X0-137.xml', '.\\\\2018-08-02V500X100-138': '2018-08-02V500X100-138.xml', '.\\\\2018-08-02V500X1000-147': '2018-08-02V500X1000-147.xml', '.\\\\2018-08-02V500X1100-148': '2018-08-02V500X1100-148.xml', '.\\\\2018-08-02V500X1200-149': '2018-08-02V500X1200-149.xml', '.\\\\2018-08-02V500X1300-150': '2018-08-02V500X1300-150.xml', '.\\\\2018-08-02V500X1400-151': '2018-08-02V500X1400-151.xml', '.\\\\2018-08-02V500X1500-152': '2018-08-02V500X1500-152.xml', '.\\\\2018-08-02V500X1600-153': '2018-08-02V500X1600-153.xml', '.\\\\2018-08-02V500X1700-154': '2018-08-02V500X1700-154.xml', '.\\\\2018-08-02V500X1800-155': '2018-08-02V500X1800-155.xml', '.\\\\2018-08-02V500X1900-156': '2018-08-02V500X1900-156.xml', '.\\\\2018-08-02V500X200-139': '2018-08-02V500X200-139.xml', '.\\\\2018-08-02V500X2000-157': '2018-08-02V500X2000-157.xml', '.\\\\2018-08-02V500X300-140': '2018-08-02V500X300-140.xml', '.\\\\2018-08-02V500X400-141': '2018-08-02V500X400-141.xml', '.\\\\2018-08-02V500X500-142': '2018-08-02V500X500-142.xml', '.\\\\2018-08-02V500X600-143': '2018-08-02V500X600-143.xml', '.\\\\2018-08-02V500X700-144': '2018-08-02V500X700-144.xml', '.\\\\2018-08-02V500X800-145': '2018-08-02V500X800-145.xml', '.\\\\2018-08-02V500X900-146': '2018-08-02V500X900-146.xml', '.\\\\2018-08-02V550X0-158': '2018-08-02V550X0-158.xml', '.\\\\2018-08-02V550X100-159': '2018-08-02V550X100-159.xml', '.\\\\2018-08-02V550X1000-168': '2018-08-02V550X1000-168.xml', '.\\\\2018-08-02V550X1100-169': '2018-08-02V550X1100-169.xml', '.\\\\2018-08-02V550X1200-170': '2018-08-02V550X1200-170.xml', '.\\\\2018-08-02V550X1300-171': '2018-08-02V550X1300-171.xml', '.\\\\2018-08-02V550X1400-172': '2018-08-02V550X1400-172.xml', '.\\\\2018-08-02V550X1500-173': '2018-08-02V550X1500-173.xml', '.\\\\2018-08-02V550X1600-174': '2018-08-02V550X1600-174.xml', '.\\\\2018-08-02V550X1700-175': '2018-08-02V550X1700-175.xml', '.\\\\2018-08-02V550X1800-176': '2018-08-02V550X1800-176.xml', '.\\\\2018-08-02V550X1900-177': '2018-08-02V550X1900-177.xml', '.\\\\2018-08-02V550X200-160': '2018-08-02V550X200-160.xml', '.\\\\2018-08-02V550X2000-178': '2018-08-02V550X2000-178.xml', '.\\\\2018-08-02V550X300-161': '2018-08-02V550X300-161.xml', '.\\\\2018-08-02V550X400-162': '2018-08-02V550X400-162.xml', '.\\\\2018-08-02V550X500-163': '2018-08-02V550X500-163.xml', '.\\\\2018-08-02V550X600-164': '2018-08-02V550X600-164.xml', '.\\\\2018-08-02V550X700-165': '2018-08-02V550X700-165.xml', '.\\\\2018-08-02V550X800-166': '2018-08-02V550X800-166.xml', '.\\\\2018-08-02V550X900-167': '2018-08-02V550X900-167.xml', '.\\\\2018-08-02V600X0-179': '2018-08-02V600X0-179.xml', '.\\\\2018-08-02V600X100-180': '2018-08-02V600X100-180.xml', '.\\\\2018-08-02V600X1000-189': '2018-08-02V600X1000-189.xml', '.\\\\2018-08-02V600X1100-190': '2018-08-02V600X1100-190.xml', '.\\\\2018-08-02V600X1200-191': '2018-08-02V600X1200-191.xml', '.\\\\2018-08-02V600X1300-192': '2018-08-02V600X1300-192.xml', '.\\\\2018-08-02V600X1400-193': '2018-08-02V600X1400-193.xml', '.\\\\2018-08-02V600X1500-194': '2018-08-02V600X1500-194.xml', '.\\\\2018-08-02V600X1600-195': '2018-08-02V600X1600-195.xml', '.\\\\2018-08-02V600X1700-196': '2018-08-02V600X1700-196.xml', '.\\\\2018-08-02V600X1800-197': '2018-08-02V600X1800-197.xml', '.\\\\2018-08-02V600X1900-198': '2018-08-02V600X1900-198.xml', '.\\\\2018-08-02V600X200-181': '2018-08-02V600X200-181.xml', '.\\\\2018-08-02V600X2000-199': '2018-08-02V600X2000-199.xml', '.\\\\2018-08-02V600X300-182': '2018-08-02V600X300-182.xml', '.\\\\2018-08-02V600X400-183': '2018-08-02V600X400-183.xml', '.\\\\2018-08-02V600X500-184': '2018-08-02V600X500-184.xml', '.\\\\2018-08-02V600X600-185': '2018-08-02V600X600-185.xml', '.\\\\2018-08-02V600X700-186': '2018-08-02V600X700-186.xml', '.\\\\2018-08-02V600X800-187': '2018-08-02V600X800-187.xml', '.\\\\2018-08-02V600X900-188': '2018-08-02V600X900-188.xml', '.\\\\2018-08-02V650X0-200': '2018-08-02V650X0-200.xml', '.\\\\2018-08-02V650X100-201': '2018-08-02V650X100-201.xml', '.\\\\2018-08-02V650X1000-210': '2018-08-02V650X1000-210.xml', '.\\\\2018-08-02V650X1100-211': '2018-08-02V650X1100-211.xml', '.\\\\2018-08-02V650X1200-212': '2018-08-02V650X1200-212.xml', '.\\\\2018-08-02V650X1300-213': '2018-08-02V650X1300-213.xml', '.\\\\2018-08-02V650X1400-214': '2018-08-02V650X1400-214.xml', '.\\\\2018-08-02V650X1500-215': '2018-08-02V650X1500-215.xml', '.\\\\2018-08-02V650X1600-216': '2018-08-02V650X1600-216.xml', '.\\\\2018-08-02V650X1700-217': '2018-08-02V650X1700-217.xml', '.\\\\2018-08-02V650X1800-218': '2018-08-02V650X1800-218.xml', '.\\\\2018-08-02V650X1900-219': '2018-08-02V650X1900-219.xml', '.\\\\2018-08-02V650X200-202': '2018-08-02V650X200-202.xml', '.\\\\2018-08-02V650X2000-220': '2018-08-02V650X2000-220.xml', '.\\\\2018-08-02V650X300-203': '2018-08-02V650X300-203.xml', '.\\\\2018-08-02V650X400-204': '2018-08-02V650X400-204.xml', '.\\\\2018-08-02V650X500-205': '2018-08-02V650X500-205.xml', '.\\\\2018-08-02V650X600-206': '2018-08-02V650X600-206.xml', '.\\\\2018-08-02V650X700-207': '2018-08-02V650X700-207.xml', '.\\\\2018-08-02V650X800-208': '2018-08-02V650X800-208.xml', '.\\\\2018-08-02V650X900-209': '2018-08-02V650X900-209.xml', '.\\\\2018-08-02V700X0-221': '2018-08-02V700X0-221.xml', '.\\\\2018-08-02V700X100-222': '2018-08-02V700X100-222.xml', '.\\\\2018-08-02V700X1000-231': '2018-08-02V700X1000-231.xml', '.\\\\2018-08-02V700X1100-232': '2018-08-02V700X1100-232.xml', '.\\\\2018-08-02V700X1200-233': '2018-08-02V700X1200-233.xml', '.\\\\2018-08-02V700X1300-234': '2018-08-02V700X1300-234.xml', '.\\\\2018-08-02V700X1400-235': '2018-08-02V700X1400-235.xml', '.\\\\2018-08-02V700X1500-236': '2018-08-02V700X1500-236.xml', '.\\\\2018-08-02V700X1600-237': '2018-08-02V700X1600-237.xml', '.\\\\2018-08-02V700X1700-238': '2018-08-02V700X1700-238.xml', '.\\\\2018-08-02V700X1800-239': '2018-08-02V700X1800-239.xml', '.\\\\2018-08-02V700X1900-240': '2018-08-02V700X1900-240.xml', '.\\\\2018-08-02V700X200-223': '2018-08-02V700X200-223.xml', '.\\\\2018-08-02V700X2000-241': '2018-08-02V700X2000-241.xml', '.\\\\2018-08-02V700X300-224': '2018-08-02V700X300-224.xml', '.\\\\2018-08-02V700X400-225': '2018-08-02V700X400-225.xml', '.\\\\2018-08-02V700X500-226': '2018-08-02V700X500-226.xml', '.\\\\2018-08-02V700X600-227': '2018-08-02V700X600-227.xml', '.\\\\2018-08-02V700X700-228': '2018-08-02V700X700-228.xml', '.\\\\2018-08-02V700X800-229': '2018-08-02V700X800-229.xml', '.\\\\2018-08-02V700X900-230': '2018-08-02V700X900-230.xml', '.\\\\2018-08-02V750X0-242': '2018-08-02V750X0-242.xml', '.\\\\2018-08-02V750X100-243': '2018-08-02V750X100-243.xml', '.\\\\2018-08-02V750X1000-252': '2018-08-02V750X1000-252.xml', '.\\\\2018-08-02V750X1100-253': '2018-08-02V750X1100-253.xml', '.\\\\2018-08-02V750X1200-254': '2018-08-02V750X1200-254.xml', '.\\\\2018-08-02V750X1300-255': '2018-08-02V750X1300-255.xml', '.\\\\2018-08-02V750X1400-256': '2018-08-02V750X1400-256.xml', '.\\\\2018-08-02V750X1500-257': '2018-08-02V750X1500-257.xml', '.\\\\2018-08-02V750X1600-258': '2018-08-02V750X1600-258.xml', '.\\\\2018-08-02V750X1700-259': '2018-08-02V750X1700-259.xml', '.\\\\2018-08-02V750X1800-260': '2018-08-02V750X1800-260.xml', '.\\\\2018-08-02V750X1900-261': '2018-08-02V750X1900-261.xml', '.\\\\2018-08-02V750X200-244': '2018-08-02V750X200-244.xml', '.\\\\2018-08-02V750X2000-262': '2018-08-02V750X2000-262.xml', '.\\\\2018-08-02V750X300-245': '2018-08-02V750X300-245.xml', '.\\\\2018-08-02V750X400-246': '2018-08-02V750X400-246.xml', '.\\\\2018-08-02V750X500-247': '2018-08-02V750X500-247.xml', '.\\\\2018-08-02V750X600-248': '2018-08-02V750X600-248.xml', '.\\\\2018-08-02V750X700-249': '2018-08-02V750X700-249.xml', '.\\\\2018-08-02V750X800-250': '2018-08-02V750X800-250.xml', '.\\\\2018-08-02V750X900-251': '2018-08-02V750X900-251.xml', '.\\\\2018-08-02V800X0-263': '2018-08-02V800X0-263.xml', '.\\\\2018-08-02V800X100-264': '2018-08-02V800X100-264.xml', '.\\\\2018-08-02V800X1000-273': '2018-08-02V800X1000-273.xml', '.\\\\2018-08-02V800X1100-274': '2018-08-02V800X1100-274.xml', '.\\\\2018-08-02V800X1200-275': '2018-08-02V800X1200-275.xml', '.\\\\2018-08-02V800X1300-276': '2018-08-02V800X1300-276.xml', '.\\\\2018-08-02V800X1400-277': '2018-08-02V800X1400-277.xml', '.\\\\2018-08-02V800X1500-278': '2018-08-02V800X1500-278.xml', '.\\\\2018-08-02V800X1600-279': '2018-08-02V800X1600-279.xml', '.\\\\2018-08-02V800X1700-280': '2018-08-02V800X1700-280.xml', '.\\\\2018-08-02V800X1800-281': '2018-08-02V800X1800-281.xml', '.\\\\2018-08-02V800X1900-282': '2018-08-02V800X1900-282.xml', '.\\\\2018-08-02V800X200-265': '2018-08-02V800X200-265.xml', '.\\\\2018-08-02V800X2000-283': '2018-08-02V800X2000-283.xml', '.\\\\2018-08-02V800X300-266': '2018-08-02V800X300-266.xml', '.\\\\2018-08-02V800X400-267': '2018-08-02V800X400-267.xml', '.\\\\2018-08-02V800X500-268': '2018-08-02V800X500-268.xml', '.\\\\2018-08-02V800X600-269': '2018-08-02V800X600-269.xml', '.\\\\2018-08-02V800X700-270': '2018-08-02V800X700-270.xml', '.\\\\2018-08-02V800X800-271': '2018-08-02V800X800-271.xml', '.\\\\2018-08-02V800X900-272': '2018-08-02V800X900-272.xml'}\n",
      ".\\2018-08-02V200X0-009\n"
     ]
    },
    {
     "name": "stdout",
     "output_type": "stream",
     "text": [
      ".\\2018-08-02V200X0-010\n",
      ".\\2018-08-02V200X0-011\n",
      ".\\2018-08-02V200X100-012\n",
      ".\\2018-08-02V200X1000-021\n",
      ".\\2018-08-02V200X1100-022\n",
      ".\\2018-08-02V200X1200-023\n",
      ".\\2018-08-02V200X1300-024\n",
      ".\\2018-08-02V200X1400-025\n",
      ".\\2018-08-02V200X1500-026\n",
      ".\\2018-08-02V200X1600-027\n",
      ".\\2018-08-02V200X1700-028\n",
      ".\\2018-08-02V200X1800-029\n"
     ]
    },
    {
     "ename": "KeyboardInterrupt",
     "evalue": "",
     "output_type": "error",
     "traceback": [
      "\u001b[1;31m---------------------------------------------------------------------------\u001b[0m",
      "\u001b[1;31mKeyboardInterrupt\u001b[0m                         Traceback (most recent call last)",
      "\u001b[1;32m<ipython-input-6-aeb358852258>\u001b[0m in \u001b[0;36m<module>\u001b[1;34m()\u001b[0m\n\u001b[0;32m     14\u001b[0m     \u001b[1;33m(\u001b[0m\u001b[0mlaser_power\u001b[0m\u001b[1;33m,\u001b[0m\u001b[0mpmt_gain\u001b[0m\u001b[1;33m)\u001b[0m \u001b[1;33m=\u001b[0m \u001b[0mreturn_power_states\u001b[0m\u001b[1;33m(\u001b[0m\u001b[0msubfolder\u001b[0m\u001b[1;33m+\u001b[0m\u001b[1;34m'/'\u001b[0m\u001b[1;33m+\u001b[0m\u001b[0msubfolders_xml_dict\u001b[0m\u001b[1;33m[\u001b[0m\u001b[0msubfolder\u001b[0m\u001b[1;33m]\u001b[0m\u001b[1;33m,\u001b[0m\u001b[0mlaser_name\u001b[0m\u001b[1;33m,\u001b[0m\u001b[0mpmt_number\u001b[0m\u001b[1;33m)\u001b[0m\u001b[1;33m\u001b[0m\u001b[0m\n\u001b[0;32m     15\u001b[0m     \u001b[1;31m# get tStack of the subfolder as numpy array\u001b[0m\u001b[1;33m\u001b[0m\u001b[1;33m\u001b[0m\u001b[0m\n\u001b[1;32m---> 16\u001b[1;33m     \u001b[0mtStack\u001b[0m \u001b[1;33m=\u001b[0m \u001b[0mreturn_tStack\u001b[0m\u001b[1;33m(\u001b[0m\u001b[0msubfolder\u001b[0m\u001b[1;33m)\u001b[0m\u001b[1;33m\u001b[0m\u001b[0m\n\u001b[0m\u001b[0;32m     17\u001b[0m     \u001b[1;31m# feed mean, variance of the whole tStack (along all axes) into dictionary\u001b[0m\u001b[1;33m\u001b[0m\u001b[1;33m\u001b[0m\u001b[0m\n\u001b[0;32m     18\u001b[0m     \u001b[0mvalue_dict\u001b[0m\u001b[1;33m[\u001b[0m\u001b[1;33m(\u001b[0m\u001b[0mlaser_power\u001b[0m\u001b[1;33m,\u001b[0m\u001b[0mpmt_gain\u001b[0m\u001b[1;33m)\u001b[0m\u001b[1;33m]\u001b[0m \u001b[1;33m=\u001b[0m \u001b[1;33m(\u001b[0m\u001b[0mnp\u001b[0m\u001b[1;33m.\u001b[0m\u001b[0mmean\u001b[0m\u001b[1;33m(\u001b[0m\u001b[0mtStack\u001b[0m\u001b[1;33m)\u001b[0m\u001b[1;33m,\u001b[0m\u001b[0mnp\u001b[0m\u001b[1;33m.\u001b[0m\u001b[0mvar\u001b[0m\u001b[1;33m(\u001b[0m\u001b[0mtStack\u001b[0m\u001b[1;33m)\u001b[0m\u001b[1;33m)\u001b[0m\u001b[1;33m\u001b[0m\u001b[0m\n",
      "\u001b[1;32m<ipython-input-2-ab5f797283b5>\u001b[0m in \u001b[0;36mreturn_tStack\u001b[1;34m(directory)\u001b[0m\n\u001b[0;32m     26\u001b[0m     \u001b[1;31m# fill tStack with tifs\u001b[0m\u001b[1;33m\u001b[0m\u001b[1;33m\u001b[0m\u001b[0m\n\u001b[0;32m     27\u001b[0m     \u001b[1;32mfor\u001b[0m \u001b[0mi\u001b[0m \u001b[1;32min\u001b[0m \u001b[0mrange\u001b[0m\u001b[1;33m(\u001b[0m\u001b[0mnum_tifs\u001b[0m\u001b[1;33m)\u001b[0m\u001b[1;33m:\u001b[0m\u001b[1;33m\u001b[0m\u001b[0m\n\u001b[1;32m---> 28\u001b[1;33m         \u001b[0mtStack\u001b[0m\u001b[1;33m[\u001b[0m\u001b[0mi\u001b[0m\u001b[1;33m]\u001b[0m \u001b[1;33m=\u001b[0m  \u001b[0mplt\u001b[0m\u001b[1;33m.\u001b[0m\u001b[0mimread\u001b[0m\u001b[1;33m(\u001b[0m\u001b[0mlist_of_tifs\u001b[0m\u001b[1;33m[\u001b[0m\u001b[0mi\u001b[0m\u001b[1;33m]\u001b[0m\u001b[1;33m)\u001b[0m\u001b[1;33m\u001b[0m\u001b[0m\n\u001b[0m\u001b[0;32m     29\u001b[0m \u001b[1;33m\u001b[0m\u001b[0m\n\u001b[0;32m     30\u001b[0m     \u001b[1;32mreturn\u001b[0m \u001b[0mtStack\u001b[0m\u001b[1;33m\u001b[0m\u001b[0m\n",
      "\u001b[1;32m~\\Anaconda3\\lib\\site-packages\\matplotlib\\pyplot.py\u001b[0m in \u001b[0;36mimread\u001b[1;34m(*args, **kwargs)\u001b[0m\n\u001b[0;32m   2379\u001b[0m \u001b[1;33m@\u001b[0m\u001b[0mdocstring\u001b[0m\u001b[1;33m.\u001b[0m\u001b[0mcopy_dedent\u001b[0m\u001b[1;33m(\u001b[0m\u001b[0m_imread\u001b[0m\u001b[1;33m)\u001b[0m\u001b[1;33m\u001b[0m\u001b[0m\n\u001b[0;32m   2380\u001b[0m \u001b[1;32mdef\u001b[0m \u001b[0mimread\u001b[0m\u001b[1;33m(\u001b[0m\u001b[1;33m*\u001b[0m\u001b[0margs\u001b[0m\u001b[1;33m,\u001b[0m \u001b[1;33m**\u001b[0m\u001b[0mkwargs\u001b[0m\u001b[1;33m)\u001b[0m\u001b[1;33m:\u001b[0m\u001b[1;33m\u001b[0m\u001b[0m\n\u001b[1;32m-> 2381\u001b[1;33m     \u001b[1;32mreturn\u001b[0m \u001b[0m_imread\u001b[0m\u001b[1;33m(\u001b[0m\u001b[1;33m*\u001b[0m\u001b[0margs\u001b[0m\u001b[1;33m,\u001b[0m \u001b[1;33m**\u001b[0m\u001b[0mkwargs\u001b[0m\u001b[1;33m)\u001b[0m\u001b[1;33m\u001b[0m\u001b[0m\n\u001b[0m\u001b[0;32m   2382\u001b[0m \u001b[1;33m\u001b[0m\u001b[0m\n\u001b[0;32m   2383\u001b[0m \u001b[1;33m\u001b[0m\u001b[0m\n",
      "\u001b[1;32m~\\Anaconda3\\lib\\site-packages\\matplotlib\\image.py\u001b[0m in \u001b[0;36mimread\u001b[1;34m(fname, format)\u001b[0m\n\u001b[0;32m   1354\u001b[0m \u001b[1;33m\u001b[0m\u001b[0m\n\u001b[0;32m   1355\u001b[0m     \u001b[1;32mif\u001b[0m \u001b[0mext\u001b[0m \u001b[1;32mnot\u001b[0m \u001b[1;32min\u001b[0m \u001b[0mhandlers\u001b[0m\u001b[1;33m:\u001b[0m\u001b[1;33m\u001b[0m\u001b[0m\n\u001b[1;32m-> 1356\u001b[1;33m         \u001b[0mim\u001b[0m \u001b[1;33m=\u001b[0m \u001b[0mpilread\u001b[0m\u001b[1;33m(\u001b[0m\u001b[0mfname\u001b[0m\u001b[1;33m)\u001b[0m\u001b[1;33m\u001b[0m\u001b[0m\n\u001b[0m\u001b[0;32m   1357\u001b[0m         \u001b[1;32mif\u001b[0m \u001b[0mim\u001b[0m \u001b[1;32mis\u001b[0m \u001b[1;32mNone\u001b[0m\u001b[1;33m:\u001b[0m\u001b[1;33m\u001b[0m\u001b[0m\n\u001b[0;32m   1358\u001b[0m             raise ValueError('Only know how to handle extensions: %s; '\n",
      "\u001b[1;32m~\\Anaconda3\\lib\\site-packages\\matplotlib\\image.py\u001b[0m in \u001b[0;36mpilread\u001b[1;34m(fname)\u001b[0m\n\u001b[0;32m   1332\u001b[0m         \u001b[1;32mexcept\u001b[0m \u001b[0mImportError\u001b[0m\u001b[1;33m:\u001b[0m\u001b[1;33m\u001b[0m\u001b[0m\n\u001b[0;32m   1333\u001b[0m             \u001b[1;32mreturn\u001b[0m \u001b[1;32mNone\u001b[0m\u001b[1;33m\u001b[0m\u001b[0m\n\u001b[1;32m-> 1334\u001b[1;33m         \u001b[1;32mwith\u001b[0m \u001b[0mImage\u001b[0m\u001b[1;33m.\u001b[0m\u001b[0mopen\u001b[0m\u001b[1;33m(\u001b[0m\u001b[0mfname\u001b[0m\u001b[1;33m)\u001b[0m \u001b[1;32mas\u001b[0m \u001b[0mimage\u001b[0m\u001b[1;33m:\u001b[0m\u001b[1;33m\u001b[0m\u001b[0m\n\u001b[0m\u001b[0;32m   1335\u001b[0m             \u001b[1;32mreturn\u001b[0m \u001b[0mpil_to_array\u001b[0m\u001b[1;33m(\u001b[0m\u001b[0mimage\u001b[0m\u001b[1;33m)\u001b[0m\u001b[1;33m\u001b[0m\u001b[0m\n\u001b[0;32m   1336\u001b[0m \u001b[1;33m\u001b[0m\u001b[0m\n",
      "\u001b[1;32m~\\Anaconda3\\lib\\site-packages\\PIL\\Image.py\u001b[0m in \u001b[0;36mopen\u001b[1;34m(fp, mode)\u001b[0m\n\u001b[0;32m   2546\u001b[0m \u001b[1;33m\u001b[0m\u001b[0m\n\u001b[0;32m   2547\u001b[0m     \u001b[1;32mif\u001b[0m \u001b[0mfilename\u001b[0m\u001b[1;33m:\u001b[0m\u001b[1;33m\u001b[0m\u001b[0m\n\u001b[1;32m-> 2548\u001b[1;33m         \u001b[0mfp\u001b[0m \u001b[1;33m=\u001b[0m \u001b[0mbuiltins\u001b[0m\u001b[1;33m.\u001b[0m\u001b[0mopen\u001b[0m\u001b[1;33m(\u001b[0m\u001b[0mfilename\u001b[0m\u001b[1;33m,\u001b[0m \u001b[1;34m\"rb\"\u001b[0m\u001b[1;33m)\u001b[0m\u001b[1;33m\u001b[0m\u001b[0m\n\u001b[0m\u001b[0;32m   2549\u001b[0m         \u001b[0mexclusive_fp\u001b[0m \u001b[1;33m=\u001b[0m \u001b[1;32mTrue\u001b[0m\u001b[1;33m\u001b[0m\u001b[0m\n\u001b[0;32m   2550\u001b[0m \u001b[1;33m\u001b[0m\u001b[0m\n",
      "\u001b[1;31mKeyboardInterrupt\u001b[0m: "
     ]
    }
   ],
   "source": [
    "#### actual program starts ####\n",
    "\n",
    "# get all of the subfolders with xml file descriptions\n",
    "subfolders_xml_dict = return_subfolder_and_xml(directory)\n",
    "print(subfolders_xml_dict)\n",
    "\n",
    "# create a value_dict to be filled as {(laser_power,pmt_gain):(mean,variance)} later\n",
    "value_dict = {}\n",
    "\n",
    "# iterate through {(subfolder:xml file)} dictionary\n",
    "for subfolder in subfolders_xml_dict.keys():\n",
    "    print(subfolder)\n",
    "    # read out (laser_power,pmt_gain) of xml file\n",
    "    (laser_power,pmt_gain) = return_power_states(subfolder+'/'+subfolders_xml_dict[subfolder],laser_name,pmt_number)\n",
    "    # get tStack of the subfolder as numpy array\n",
    "    tStack = return_tStack(subfolder)\n",
    "    # feed mean, variance of the whole tStack (along all axes) into dictionary\n",
    "    value_dict[(laser_power,pmt_gain)] = (np.mean(tStack),np.var(tStack))\n",
    "    os.chdir(directory)\n",
    "\n",
    "np.save('mean_var_dict.npy', value_dict) "
   ]
  },
  {
   "cell_type": "code",
   "execution_count": null,
   "metadata": {},
   "outputs": [],
   "source": [
    "# set modalities of the 2d-parameter-space scan\n",
    "# do this manually!!\n",
    "\n",
    "Pmins = [200,200,200]\n",
    "Psteps = [50]*8\n",
    "\n",
    "# PV that corresponds to 50mw OnSample\n",
    "# maybe not\n",
    "Pmaxs = [700,700,700]\n",
    "\n",
    "\n",
    "Vmins = [345,445,495,545,595,645,695,745]\n",
    "Vsteps = [5]*8\n",
    "\n",
    "# Voltage that slightly oversaturates the uniformly lit sample\n",
    "Vmaxs = [355,455,505,555,605,655,705,755]\n",
    "\n",
    "# construct linspaces\n",
    "c = len(Pmins)\n",
    "\n",
    "Pspaces = []\n",
    "for i in range(c):\n",
    "    Pspace = np.arange(Pmins[i],Pmaxs[i]+Psteps[i],Psteps[i])\n",
    "    print(Pspace)\n",
    "    Pspaces.append(Pspace)\n",
    "\n",
    "Vspaces = []\n",
    "for i in range(c):\n",
    "    Vspace = np.arange(Vmins[i],Vmaxs[i]+Vsteps[i],Vsteps[i])\n",
    "    Vspaces.append(Vspace)\n",
    "\n",
    "print(Pspaces)\n",
    "print(Vspaces)\n",
    "\n",
    "gains = []\n",
    "offsets = []\n",
    "std_errs = []\n",
    "\n",
    "for i in range(c):\n",
    "    Vlen = len(Vspaces[i])\n",
    "    for j in range(Vlen):\n",
    "        Plen = len(Pspaces[i])\n",
    "        means = np.zeros(Plen)\n",
    "        variances = np.zeros(Plen)\n",
    "        for k in range(Plen):\n",
    "            (means[k],variances[k]) = value_dict[str(Pspaces[i][k]),str(Vspaces[i][j])]\n",
    "        slope, intercept, r_value, p_value, std_err = stats.linregress(means, variances)\n",
    "        print(slope, intercept, r_value, p_value, std_err)\n",
    "        gains.append(slope)\n",
    "        offsets.append(intercept)\n",
    "        std_errs.append(std_err)\n",
    "\n",
    "plt.errorbar(np.asarray(Vspaces).flatten(),gains,yerr=std_errs,\n",
    "             label='PMT 2, 765nm reflection',linestyle='None',marker='*')\n",
    "plt.legend()\n",
    "plt.xlabel('PMT Voltage')\n",
    "plt.ylabel('PMT Gain')\n",
    "plt.xlim(200,700)\n",
    "#plt.ylim(0,500)\n",
    "plt.show()\n",
    "\n",
    "        "
   ]
  },
  {
   "cell_type": "code",
   "execution_count": 16,
   "metadata": {},
   "outputs": [
    {
     "ename": "NameError",
     "evalue": "name 'optimize' is not defined",
     "output_type": "error",
     "traceback": [
      "\u001b[1;31m---------------------------------------------------------------------------\u001b[0m",
      "\u001b[1;31mNameError\u001b[0m                                 Traceback (most recent call last)",
      "\u001b[1;32m<ipython-input-16-93349892a912>\u001b[0m in \u001b[0;36m<module>\u001b[1;34m()\u001b[0m\n\u001b[0;32m      5\u001b[0m \u001b[0mexponential\u001b[0m \u001b[1;33m=\u001b[0m \u001b[1;32mlambda\u001b[0m \u001b[0mt\u001b[0m\u001b[1;33m,\u001b[0m\u001b[0ma\u001b[0m\u001b[1;33m,\u001b[0m\u001b[0mb\u001b[0m\u001b[1;33m:\u001b[0m \u001b[0ma\u001b[0m \u001b[1;33m*\u001b[0m \u001b[0mnp\u001b[0m\u001b[1;33m.\u001b[0m\u001b[0mexp\u001b[0m\u001b[1;33m(\u001b[0m\u001b[0mb\u001b[0m\u001b[1;33m*\u001b[0m\u001b[0mt\u001b[0m\u001b[1;33m)\u001b[0m\u001b[1;33m\u001b[0m\u001b[0m\n\u001b[0;32m      6\u001b[0m \u001b[1;33m\u001b[0m\u001b[0m\n\u001b[1;32m----> 7\u001b[1;33m \u001b[0mpopt\u001b[0m\u001b[1;33m,\u001b[0m \u001b[0mpcov\u001b[0m \u001b[1;33m=\u001b[0m \u001b[0moptimize\u001b[0m\u001b[1;33m.\u001b[0m\u001b[0mcurve_fit\u001b[0m\u001b[1;33m(\u001b[0m\u001b[0mexponential\u001b[0m\u001b[1;33m,\u001b[0m  \u001b[0mxdata\u001b[0m\u001b[1;33m,\u001b[0m  \u001b[0mydata\u001b[0m\u001b[1;33m,\u001b[0m \u001b[0msigma\u001b[0m\u001b[1;33m=\u001b[0m\u001b[0myerr\u001b[0m\u001b[1;33m,\u001b[0m  \u001b[0mp0\u001b[0m\u001b[1;33m=\u001b[0m\u001b[1;33m(\u001b[0m\u001b[1;36m0.01\u001b[0m\u001b[1;33m,\u001b[0m\u001b[1;36m0.01\u001b[0m\u001b[1;33m)\u001b[0m\u001b[1;33m)\u001b[0m\u001b[1;33m\u001b[0m\u001b[0m\n\u001b[0m\u001b[0;32m      8\u001b[0m \u001b[0mprint\u001b[0m\u001b[1;33m(\u001b[0m\u001b[0mpopt\u001b[0m\u001b[1;33m,\u001b[0m\u001b[0mpcov\u001b[0m\u001b[1;33m)\u001b[0m\u001b[1;33m\u001b[0m\u001b[0m\n\u001b[0;32m      9\u001b[0m \u001b[1;33m\u001b[0m\u001b[0m\n",
      "\u001b[1;31mNameError\u001b[0m: name 'optimize' is not defined"
     ]
    }
   ],
   "source": [
    "xdata = np.asarray(Vspaces).flatten()\n",
    "ydata = gains\n",
    "yerr = std_errs\n",
    "\n",
    "exponential = lambda t,a,b: a * np.exp(b*t)\n",
    "\n",
    "popt, pcov = optimize.curve_fit(exponential,  xdata,  ydata, sigma=yerr,  p0=(0.01,0.01))\n",
    "print(popt,pcov)\n",
    "\n",
    "tspace = np.arange(300,500,1)\n",
    "\n",
    "plt.plot(tspace,exponential(tspace,*popt),label='exp fit')\n",
    "plt.errorbar(np.asarray(Vspaces).flatten(),gains,yerr=std_errs,\n",
    "             label='PMT 2, 765nm reflection',linestyle='None',marker='*')\n",
    "plt.legend()\n",
    "plt.show()"
   ]
  },
  {
   "cell_type": "code",
   "execution_count": null,
   "metadata": {},
   "outputs": [],
   "source": []
  },
  {
   "cell_type": "code",
   "execution_count": null,
   "metadata": {},
   "outputs": [],
   "source": []
  }
 ],
 "metadata": {
  "kernelspec": {
   "display_name": "Python 3",
   "language": "python",
   "name": "python3"
  },
  "language_info": {
   "codemirror_mode": {
    "name": "ipython",
    "version": 3
   },
   "file_extension": ".py",
   "mimetype": "text/x-python",
   "name": "python",
   "nbconvert_exporter": "python",
   "pygments_lexer": "ipython3",
   "version": "3.7.0"
  }
 },
 "nbformat": 4,
 "nbformat_minor": 2
}
