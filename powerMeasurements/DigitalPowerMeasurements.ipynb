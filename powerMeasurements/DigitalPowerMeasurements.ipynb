{
 "cells": [
  {
   "cell_type": "code",
   "execution_count": 1,
   "metadata": {},
   "outputs": [],
   "source": [
    "import win32com.client\n",
    "from datetime import date\n",
    "import numpy as np\n",
    "import time\n",
    "from os import listdir\n",
    "from os.path import isfile, join\n",
    "import os\n",
    "import matplotlib.pyplot as plt\n",
    "from scipy.optimize import curve_fit\n",
    "import visa # provides generic usb interface to the powermeter\n",
    "from ThorlabsPM100 import ThorlabsPM100 # actually knows how to talk to the powermeter\n",
    "%matplotlib notebook"
   ]
  },
  {
   "cell_type": "markdown",
   "metadata": {},
   "source": [
    "## set basic parameters below"
   ]
  },
  {
   "cell_type": "code",
   "execution_count": 2,
   "metadata": {},
   "outputs": [
    {
     "data": {
      "text/plain": [
       "'F:\\\\Data\\\\aharris\\\\2019-04-03\\\\PowerMeasurements'"
      ]
     },
     "execution_count": 2,
     "metadata": {},
     "output_type": "execute_result"
    }
   ],
   "source": [
    "### set folder here\n",
    "\n",
    "# construct Packer-xkcd-compliant datestring\n",
    "datestring = date.today().isoformat()\n",
    "\n",
    "# type your name here (formated as in F drive)\n",
    "name = 'aharris'\n",
    "\n",
    "folder = r\"F:\\Data\\{0}\\{1}\\PowerMeasurements\".format(name, datestring)\n",
    "\n",
    "if not os.path.exists(folder):\n",
    "    os.makedirs(folder)\n",
    "    \n",
    "folder"
   ]
  },
  {
   "cell_type": "code",
   "execution_count": 3,
   "metadata": {},
   "outputs": [],
   "source": [
    "class DigitalPowerMeasurer:\n",
    "    \"\"\"\n",
    "    This class takes analog devices on an AI card, a usb connection to the power meters, \n",
    "    a PrairieLink, and xmls and gpls to definethe SLM experiment.\n",
    "    It then fires the experiment once to find the best power range, \n",
    "    initializes the analog devices, starts the SLM experiments and listens to the analog inputs.\n",
    "    returns a power range array and the analog input array.\"\"\"\n",
    "    \n",
    "    def __init__(self,prairie_link, visa_resource_manager, power_meter_list):\n",
    "        \n",
    "        # store configruation\n",
    "        self.pl = prairie_link\n",
    "        self.rm = visa_resource_manager\n",
    "        self.num_power_meters = len(power_meter_list)\n",
    "        \n",
    "        # create power_meters\n",
    "        self.instruments = []\n",
    "        self.power_meters = []\n",
    "        for i in range(self.num_power_meters):\n",
    "            self.instruments.append(rm.open_resource(power_meter_list[i]))\n",
    "            self.power_meters.append(ThorlabsPM100(inst=self.instruments[i]))\n",
    "        \n",
    "    def measure(self,laser_name,wavelength,laser_power,window_length=5):\n",
    "        \"\"\"\n",
    "        laser name needs to match a laser name in PrairieView\n",
    "        Wavelength needs to be accessible trhough the PrairieView 2P laser tab\n",
    "        take {laser_name:laser_power[PV]} dictionary and perform measurement with this power for 3s\"\"\"\n",
    "        \n",
    "        voltage_array = np.zeros(self.num_power_meters)\n",
    "        \n",
    "        pl.SendScriptCommands('-SetLaserPower ' + laser_name + ' ' + str(laser_power))\n",
    "        time.sleep(window_length)\n",
    "        \n",
    "        for i in range(self.num_power_meters):\n",
    "            # set the power meter wavelength\n",
    "            self.power_meters[i].sense.correction.wavelength = wavelength\n",
    "            \n",
    "            # use USB correction to measure current power\n",
    "            voltage_array[i] = self.power_meters[i].read\n",
    "        \n",
    "        pl.SendScriptCommands('-SetLaserPower ' + laser_name + ' ' + str(0))\n",
    "        \n",
    "        return voltage_array"
   ]
  },
  {
   "cell_type": "code",
   "execution_count": 4,
   "metadata": {},
   "outputs": [],
   "source": [
    "def pockel_curve(x,I,k,phi):\n",
    "    return I * np.cos(k*x + phi)**2\n",
    "\n",
    "def arctangent(x, phi, I_0, I, k):\n",
    "    return I * np.arctan(k*(x + phi)) + I_0"
   ]
  },
  {
   "cell_type": "code",
   "execution_count": 5,
   "metadata": {
    "scrolled": false
   },
   "outputs": [
    {
     "name": "stdout",
     "output_type": "stream",
     "text": [
      "object created\n",
      "<bound method CDispatch.Connected of <COMObject PrairieLink.Application>>\n"
     ]
    }
   ],
   "source": [
    "# Start PrairieLink\n",
    "pl = win32com.client.Dispatch('PrairieLink.Application')\n",
    "print('object created')\n",
    "\n",
    "# Connect to Client\n",
    "pl.Connect()\n",
    "print(pl.Connected)"
   ]
  },
  {
   "cell_type": "code",
   "execution_count": 6,
   "metadata": {
    "scrolled": false
   },
   "outputs": [
    {
     "name": "stdout",
     "output_type": "stream",
     "text": [
      "(u'USB0::0x1313::0x8079::P1003857::INSTR', u'ASRL3::INSTR', u'ASRL4::INSTR', u'ASRL5::INSTR', u'ASRL6::INSTR', u'ASRL7::INSTR', u'ASRL10::INSTR', u'ASRL12::INSTR', u'ASRL13::INSTR', u'ASRL14::INSTR', u'ASRL15::INSTR', u'ASRL Port (COM7::INSTR', u'USB::0x1313::0x8079::P1003857::INSTR')\n"
     ]
    }
   ],
   "source": [
    "# Search for PowerMeters\n",
    "rm=visa.ResourceManager()\n",
    "resource_list = rm.list_resources()\n",
    "print(resource_list)\n",
    "\n",
    "# create powermeter, assume that it is the first object showing up in the above list\n",
    "pm100 = DigitalPowerMeasurer(pl,rm,[resource_list[0]])"
   ]
  },
  {
   "cell_type": "markdown",
   "metadata": {},
   "source": [
    "# MAKE sure you:\n",
    "## open laser shutters\n",
    "## center galvos\n",
    "## check if you are in resonant galvo mode\n",
    "## check PMT shutters are closed\n",
    "## think about SLM if using uncaging\n",
    "## plug in power meter if low battery\n",
    "## check the conoptics bias voltage is set to 005\n",
    "## set the GDD to 14212 using the slider or up/down arrows"
   ]
  },
  {
   "cell_type": "code",
   "execution_count": 11,
   "metadata": {
    "scrolled": true
   },
   "outputs": [
    {
     "name": "stdout",
     "output_type": "stream",
     "text": [
      "0.000235320418\n",
      "0.0197499488\n",
      "0.0843232572\n",
      "0.180602297\n",
      "0.289484262\n",
      "0.389263302\n",
      "0.460498333\n",
      "0.489395291\n",
      "0.470851243\n",
      "0.408219129\n",
      "0.323675305\n"
     ]
    }
   ],
   "source": [
    "laser_name = 'Imaging'\n",
    "wavelength = 765\n",
    "#pl.SendScriptCommands('-SetMultiPhotonWavelength' + ' ' + str(wavelength) + ' ' + str(1))\n",
    "#Allow Chameleon to change its colours\n",
    "#time.sleep(15)\n",
    "\n",
    "powerspace = np.arange(0,1100,100)\n",
    "\n",
    "len_powerspace = len(powerspace)\n",
    "\n",
    "voltage_array = np.zeros(len_powerspace)\n",
    "\n",
    "for i in range(len_powerspace):\n",
    "    voltage_array[i] = pm100.measure('Imaging', wavelength, powerspace[i],6)\n",
    "    #time.sleep(3)\n",
    "    print(voltage_array[i])"
   ]
  },
  {
   "cell_type": "code",
   "execution_count": 12,
   "metadata": {},
   "outputs": [
    {
     "data": {
      "image/png": "[encoded data removed]",
      "text/plain": [
       "<Figure size 432x288 with 1 Axes>"
      ]
     },
     "metadata": {},
     "output_type": "display_data"
    }
   ],
   "source": [
    "guess = (0.14,1/500,1)\n",
    "popt, pcov = curve_fit(pockel_curve,powerspace,voltage_array,guess)\n",
    "\n",
    "fig = plt.figure()\n",
    "ax = plt.subplot(111)\n",
    "\n",
    "ax.plot(powerspace,1000*voltage_array,linestyle='None',marker='o',label=laser_name + ' Power-on-Table')\n",
    "ax.plot(powerspace,1000*pockel_curve(powerspace,*popt),label=r\"cos$^{2}$ Fit\" + \"\\n\"\n",
    "         r\"Peak Power: {:.2f} [mW]\".format(popt[0]*1000) + \"\\n\" +\n",
    "         \"Offset: {:.2f} [PV]\".format(popt[2]))\n",
    "\n",
    "\n",
    "#numerically get the PV power for 50mW\n",
    "test_PVs = np.linspace(0,500,1000)\n",
    "power = []\n",
    "for i in test_PVs:\n",
    "    \n",
    "    power.append(pockel_curve(i,*popt) * 1000)\n",
    "    \n",
    "fifty_diff = [50 - i for i in power]\n",
    "fifty_IND = np.argmin(np.abs(fifty_diff))\n",
    "fifty_PV = np.round(test_PVs[fifty_IND],2)\n",
    "\n",
    "\n",
    "# Shrink current axis by 20%\n",
    "box = ax.get_position()\n",
    "ax.set_position([box.x0, box.y0, box.width * 0.8, box.height])\n",
    "\n",
    "# Put a legend to the right of the current axis\n",
    "legend = ax.legend(loc='center left', bbox_to_anchor=(1, 0.5))\n",
    "plt.xlabel(\"Voltage [PV]\")\n",
    "plt.ylabel(\"Power [mW]\")\n",
    "plt.title(\"Packer1 Power Measurement \\n\" + str(wavelength) + \" nm, \" + datestring + ' 50mW is {}'.format(fifty_PV))\n",
    "\n",
    "# construct Packer-xkcd-compliant datestring\n",
    "datestring = date.today().isoformat()\n",
    "operator = \"mloidolt\"\n",
    "\n",
    "os.chdir(folder)\n",
    "plt.savefig(datestring+'_'+laser_name+'_'+str(wavelength)+\".pdf\",bbox_extra_artists=(legend,), bbox_inches='tight')\n",
    "np.save(datestring+'_'+laser_name+'_'+str(wavelength)+'_'+'powerspace',powerspace)\n",
    "np.save(datestring+'_'+laser_name+'_'+str(wavelength)+'_'+'voltage_array',voltage_array)\n",
    "np.save(datestring+'_'+laser_name+'_'+str(wavelength)+'_'+'popt',popt)\n",
    "np.save(datestring+'_'+laser_name+'_'+str(wavelength)+'_'+'pcov',pcov)"
   ]
  },
  {
   "cell_type": "markdown",
   "metadata": {},
   "source": [
    "## no longer have 2p laser tab, so change laser wavelength manually\n",
    "## the power meter wavelength is set automatically"
   ]
  },
  {
   "cell_type": "markdown",
   "metadata": {},
   "source": [
    "# be very careful not to go above 800 PV if using uncaging path \n",
    "# Pmax = 5W for the thermosensor\n",
    "# be even MORE careful if using the wand Pmax = 0.5W\n",
    "# Make sure at 1x zoom\n",
    "# change phase mask to SLMSingleSpot_PhaseMask_PowerMeasurement\n"
   ]
  },
  {
   "cell_type": "code",
   "execution_count": 23,
   "metadata": {},
   "outputs": [],
   "source": [
    "## set the uncaging path to measure here\n",
    "\n",
    "#uc_path = 'uncaging_no_slm'\n",
    "uc_path = 'uncaging_slm_single_spot' \n"
   ]
  },
  {
   "cell_type": "code",
   "execution_count": 24,
   "metadata": {},
   "outputs": [
    {
     "data": {
      "text/plain": [
       "'uncaging_slm_single_spot'"
      ]
     },
     "execution_count": 24,
     "metadata": {},
     "output_type": "execute_result"
    }
   ],
   "source": [
    "uc_path"
   ]
  },
  {
   "cell_type": "code",
   "execution_count": 26,
   "metadata": {
    "scrolled": false
   },
   "outputs": [
    {
     "name": "stdout",
     "output_type": "stream",
     "text": [
      "object created\n",
      "<bound method CDispatch.Connected of <COMObject PrairieLink.Application>>\n"
     ]
    }
   ],
   "source": [
    "# Start PrairieLink if had to restart PV\n",
    "pl = win32com.client.Dispatch('PrairieLink.Application')\n",
    "print('object created')\n",
    "\n",
    "# Connect to Client\n",
    "pl.Connect()\n",
    "print(pl.Connected)"
   ]
  },
  {
   "cell_type": "code",
   "execution_count": 33,
   "metadata": {
    "scrolled": true
   },
   "outputs": [
    {
     "name": "stdout",
     "output_type": "stream",
     "text": [
      "200\n",
      "-0.000906826288\n",
      "300\n",
      "0.0117882891\n",
      "400\n",
      "0.0489668064\n",
      "500\n",
      "0.106397025\n",
      "600\n",
      "0.162769288\n",
      "700\n",
      "0.221408591\n",
      "800\n",
      "0.262365431\n",
      "900\n",
      "0.286999971\n",
      "1000\n",
      "0.30241546\n"
     ]
    }
   ],
   "source": [
    "# dont try hack this to make it faster, it causes errors\n",
    "\n",
    "laser_name = 'Uncaging'\n",
    "wavelength = 1030\n",
    "\n",
    "if uc_path == 'uncaging_no_slm':\n",
    "    powerspace = np.arange(200,750,50)\n",
    "elif uc_path == 'uncaging_slm_single_spot':\n",
    "    powerspace = np.arange(200,1100,100)\n",
    "else:\n",
    "    raise('invalid uncaging path')\n",
    "\n",
    "\n",
    "len_powerspace = len(powerspace)\n",
    "\n",
    "voltage_array = np.zeros(len_powerspace)\n",
    "\n",
    "for i in range(len_powerspace):\n",
    "    print(powerspace[i])\n",
    "    voltage_array[i] = pm100.measure(laser_name, wavelength, powerspace[i],window_length=7)\n",
    "    print(voltage_array[i])\n",
    "    time.sleep(5)\n",
    "    \n",
    "assert max(voltage_array) < 10, 'if power meter is not allowed to reset long enough between measurements, an error can be raised here'"
   ]
  },
  {
   "cell_type": "code",
   "execution_count": 34,
   "metadata": {
    "scrolled": true
   },
   "outputs": [
    {
     "name": "stdout",
     "output_type": "stream",
     "text": [
      "[ 200  300  400  500  600  700  800  900 1000]\n",
      "[-0.00090683  0.01178829  0.04896681  0.10639703  0.16276929  0.22140859\n",
      "  0.26236543  0.28699997  0.30241546]\n"
     ]
    },
    {
     "data": {
      "image/png": "[encoded data removed]",
      "text/plain": [
       "<Figure size 432x288 with 1 Axes>"
      ]
     },
     "metadata": {},
     "output_type": "display_data"
    }
   ],
   "source": [
    "datestring = date.today().isoformat()\n",
    "guess = (-700,500,300,0.02)\n",
    "popt, pcov = curve_fit(arctangent,powerspace,voltage_array,guess)\n",
    "\n",
    "fig = plt.figure()\n",
    "ax = plt.subplot(111)\n",
    "\n",
    "ax.plot(powerspace,1000*voltage_array,linestyle='None',marker='o',label=uc_path)\n",
    "ax.plot(powerspace,1000*arctangent(powerspace,*popt),label=r\"arctan Fit\" + \"\\n\"\n",
    "         r\"Peak Power: {:.2f} [mW]\".format((popt[2]+popt[1])*1000) + \"\\n\" +\n",
    "         \"Offset: {:.2f} [PV]\".format(popt[0]))\n",
    "\n",
    "#numerically get the PV power for 50mW\n",
    "test_PVs = np.linspace(200,500,1000)\n",
    "power = []\n",
    "for i in test_PVs:    \n",
    "    power.append(arctangent(i,*popt) * 1000)\n",
    "    \n",
    "fifty_diff = [50 - i for i in power]\n",
    "fifty_IND = np.argmin(np.abs(fifty_diff))\n",
    "fifty_PV = np.round(test_PVs[fifty_IND],2)\n",
    "\n",
    "# Shrink current axis by 20%\n",
    "box = ax.get_position()\n",
    "ax.set_position([box.x0, box.y0, box.width * 0.8, box.height])\n",
    "\n",
    "# Put a legend to the right of the current axis\n",
    "legend = ax.legend(loc='center left', bbox_to_anchor=(1, 0.5))\n",
    "plt.xlabel(\"Voltage [PV]\")\n",
    "plt.ylabel(\"Power [mW]\")\n",
    "#plt.title(\"Packer1 Power On Sample \\n\" + str(wavelength) + \" nm \" + ' ' + uc_path + \"\\n\" + datestring)\n",
    "plt.title(\"Packer1 Power Measurement \\n\" + str(wavelength) + \" nm, \" + datestring + ' 50mW is {}'.format(fifty_PV) + ' blimp')\n",
    "\n",
    "# construct Packer-xkcd-compliant datestring\n",
    "datestring = date.today().isoformat()\n",
    "operator = \"mloidolt\"\n",
    "\n",
    "os.chdir(folder)\n",
    "plt.savefig(datestring+'_'+uc_path+'_'+str(wavelength)+\".pdf\",bbox_extra_artists=(legend,), bbox_inches='tight')\n",
    "np.save(datestring+'_'+uc_path+'_'+str(wavelength)+'_'+'powerspace',powerspace)\n",
    "np.save(datestring+'_'+uc_path+'_'+str(wavelength)+'_'+'voltage_array',voltage_array)\n",
    "np.save(datestring+'_'+uc_path+'_'+str(wavelength)+'_'+'popt',popt)\n",
    "np.save(datestring+'_'+uc_path+'_'+str(wavelength)+'_'+'pcov',pcov)\n",
    "\n",
    "print(powerspace);\n",
    "print(voltage_array);"
   ]
  },
  {
   "cell_type": "code",
   "execution_count": null,
   "metadata": {},
   "outputs": [],
   "source": [
    "folder = r\"F:\\Data\\mloidolt\\2018-09-05\\2018-09-05_PowerMeasurements\"\n",
    "os.chdir(folder)\n",
    "\n",
    "datestring = date.today().isoformat()\n",
    "\n",
    "laser_name = 'Uncaging'\n",
    "wavelength=1030\n",
    "\n",
    "powerspace = np.load(\"2018-09-05_Uncaging_1030_powerspace.npy\")\n",
    "voltage_array = np.load(\"2018-09-05_Uncaging_1030_voltage_array.npy\")\n",
    "stable_popt = np.load(\"2018-09-05_Uncaging_1030_popt.npy\")\n",
    "\n",
    "Y = I/2 * 680\n",
    "X = PV\n",
    "\n",
    "old_popt = np.load(r\"F:\\Data\\mloidolt\\2018-08-23\\2018-08-23_PowerMeasurements\\2018-08-23_Uncaging_1030_popt.npy\")\n",
    "powerspace = np.arange(300,1000,30)\n",
    "\n",
    "guess = (-700,500,300,0.02)\n",
    "\n",
    "popt, pcov = curve_fit(arctangent,X,Y,guess)\n",
    "print(popt)\n",
    "print(old_popt)\n",
    "\n",
    "fig = plt.figure()\n",
    "ax = plt.subplot(111)\n",
    "\n",
    "#plt.plot(powerspace,arctangent(powerspace,*old_popt)/multiplicator)\n",
    "ax.plot(X,Y,linestyle='None',marker='o',color='blue',label=laser_name + ' Peak Power')\n",
    "ax.plot(powerspace,arctangent(powerspace,*popt),color='blue',label=r\"arctan Fit\" + \"\\n\"\n",
    "         r\"Peak Power: {:.2f} [mW]\".format((popt[2]+popt[1])*1000) + \"\\n\" +\n",
    "         \"Offset: {:.2f} [PV]\".format(popt[0]))\n",
    "ax.plot(powerspace,1000*voltage_array,linestyle='None',marker='o',label=laser_name + ' Power afer 5s',color='green')\n",
    "ax.plot(powerspace,1000*arctangent(powerspace,*stable_popt),label=r\"arctan Fit\" + \"\\n\"\n",
    "         r\"Peak Power: {:.2f} [mW]\".format((popt[2]+popt[1])*1000) + \"\\n\" +\n",
    "         \"Offset: {:.2f} [PV]\".format(old_popt[0]),color='green')\n",
    "\n",
    "# Shrink current axis by 20%\n",
    "box = ax.get_position()\n",
    "ax.set_position([box.x0, box.y0, box.width * 0.8, box.height])\n",
    "\n",
    "# Put a legend to the right of the current axis\n",
    "legend = ax.legend(loc='center left', bbox_to_anchor=(1, 0.5))\n",
    "plt.xlabel(\"Voltage [PV]\")\n",
    "plt.ylabel(\"Power [mW]\")\n",
    "plt.title(\"Packer1 Power Measurement \\n\" + str(wavelength) + \" nm, \" + datestring)"
   ]
  },
  {
   "cell_type": "code",
   "execution_count": null,
   "metadata": {},
   "outputs": [],
   "source": []
  },
  {
   "cell_type": "code",
   "execution_count": null,
   "metadata": {},
   "outputs": [],
   "source": []
  }
 ],
 "metadata": {
  "kernelspec": {
   "display_name": "Python 2",
   "language": "python",
   "name": "python2"
  },
  "language_info": {
   "codemirror_mode": {
    "name": "ipython",
    "version": 2
   },
   "file_extension": ".py",
   "mimetype": "text/x-python",
   "name": "python",
   "nbconvert_exporter": "python",
   "pygments_lexer": "ipython2",
   "version": "2.7.15"
  }
 },
 "nbformat": 4,
 "nbformat_minor": 2
}
